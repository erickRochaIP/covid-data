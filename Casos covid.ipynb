{
 "cells": [
  {
   "cell_type": "code",
   "execution_count": null,
   "metadata": {},
   "outputs": [],
   "source": [
    "%matplotlib inline\n",
    "import pandas as pd\n",
    "import matplotlib.pyplot as plt\n",
    "import numpy as np\n",
    "import seaborn as sns"
   ]
  },
  {
   "cell_type": "code",
   "execution_count": null,
   "metadata": {},
   "outputs": [],
   "source": [
    "from sklearn.linear_model import RidgeCV\n",
    "from sklearn.svm import LinearSVC\n",
    "from sklearn.model_selection import train_test_split\n",
    "from sklearn.metrics import accuracy_score"
   ]
  },
  {
   "cell_type": "code",
   "execution_count": null,
   "metadata": {},
   "outputs": [],
   "source": [
    "import requests, json, csv"
   ]
  },
  {
   "cell_type": "code",
   "execution_count": null,
   "metadata": {},
   "outputs": [],
   "source": [
    "def load_json_prop(json, prop):\n",
    "    value=0\n",
    "    for uf in json:\n",
    "        value += uf[prop]\n",
    "    return value"
   ]
  },
  {
   "cell_type": "code",
   "execution_count": null,
   "metadata": {},
   "outputs": [],
   "source": [
    "def load_data():\n",
    "    data = []\n",
    "\n",
    "    i = 0\n",
    "    for month in range(3, 9):\n",
    "        for date in range(1, 32):\n",
    "            i += 1\n",
    "            # print(\"Collecting \" + str(date) + \"/\" + str(month))\n",
    "            response = requests.get(\"https://covid19-brazil-api.now.sh/api/report/v1/brazil/2020\" + f\"{month:02d}\" + f\"{date:02d}\")\n",
    "            if response.status_code != 200:\n",
    "                continue\n",
    "            responseJson = json.loads(response.text)[\"data\"]\n",
    "            cases = load_json_prop(responseJson, \"cases\")\n",
    "            if cases == 0:\n",
    "                continue\n",
    "            row = []\n",
    "            row.append(month)\n",
    "            row.append(date)\n",
    "            row.append(cases)\n",
    "            row.append(i)\n",
    "            data.append(row)\n",
    "\n",
    "    return data"
   ]
  },
  {
   "cell_type": "code",
   "execution_count": null,
   "metadata": {},
   "outputs": [],
   "source": [
    "data = load_data()\n",
    "\n",
    "with open('database.csv', mode='w') as fl:\n",
    "    fl = csv.writer(fl, delimiter=',', quotechar='\"', quoting=csv.QUOTE_MINIMAL)\n",
    "\n",
    "    fl.writerow(['Month', 'Day', 'Cases', 'Time'])\n",
    "\n",
    "    for evidences in data:\n",
    "        fl.writerow(evidences)"
   ]
  },
  {
   "cell_type": "code",
   "execution_count": null,
   "metadata": {},
   "outputs": [],
   "source": [
    "cases = pd.read_csv(\"database.csv\")\n",
    "cases"
   ]
  },
  {
   "cell_type": "code",
   "execution_count": null,
   "metadata": {},
   "outputs": [],
   "source": [
    "cases.plot.scatter(x=\"Time\", y=\"Cases\")"
   ]
  },
  {
   "cell_type": "code",
   "execution_count": null,
   "metadata": {},
   "outputs": [],
   "source": [
    "model = RidgeCV()\n",
    "evidences = cases[[\"Time\"]]\n",
    "labels = cases[\"Cases\"]\n",
    "train_x, test_x, train_y, test_y = train_test_split(evidences, labels)\n",
    "model.fit(train_x, train_y)\n",
    "predicts = model.predict(test_x)\n",
    "# avaliar o acerto das predicoes"
   ]
  }
 ],
 "metadata": {
  "kernelspec": {
   "display_name": "Python 3",
   "language": "python",
   "name": "python3"
  },
  "language_info": {
   "codemirror_mode": {
    "name": "ipython",
    "version": 3
   },
   "file_extension": ".py",
   "mimetype": "text/x-python",
   "name": "python",
   "nbconvert_exporter": "python",
   "pygments_lexer": "ipython3",
   "version": "3.8.3"
  }
 },
 "nbformat": 4,
 "nbformat_minor": 4
}
