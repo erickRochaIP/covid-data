{
 "cells": [
  {
   "cell_type": "markdown",
   "metadata": {},
   "source": [
    "# Imports"
   ]
  },
  {
   "cell_type": "code",
   "execution_count": 57,
   "metadata": {},
   "outputs": [],
   "source": [
    "import datetime\n",
    "import requests, json, csv\n",
    "import numpy as np\n",
    "import pandas as pd\n",
    "import matplotlib.pyplot as plt\n",
    "import seaborn as sns\n",
    "from sklearn import linear_model as lm\n",
    "from sklearn.model_selection import train_test_split, cross_validate"
   ]
  },
  {
   "cell_type": "markdown",
   "metadata": {},
   "source": [
    "# Coletar dados"
   ]
  },
  {
   "cell_type": "code",
   "execution_count": 28,
   "metadata": {},
   "outputs": [],
   "source": [
    "def load_json_prop(json, prop):\n",
    "    value=0\n",
    "    for uf in json:\n",
    "        value += uf[prop]\n",
    "    return value"
   ]
  },
  {
   "cell_type": "code",
   "execution_count": 31,
   "metadata": {},
   "outputs": [],
   "source": [
    "def load_data():\n",
    "    data = []\n",
    "    \n",
    "    date = datetime.date(2020, 3, 1)\n",
    "    \n",
    "    while date < datetime.date.today():\n",
    "        response = requests.get(\"https://covid19-brazil-api.now.sh/api/report/v1/brazil/\" + f\"{date.year}\" + f\"{date.month:02d}\" + f\"{date.day:02d}\")\n",
    "        \n",
    "        if response.status_code != 200:\n",
    "            date = date + datetime.timedelta(days=1)\n",
    "            continue\n",
    "        \n",
    "        responseJson = json.loads(response.text)[\"data\"]\n",
    "        cases = load_json_prop(responseJson, \"cases\")\n",
    "        deaths = load_json_prop(responseJson, \"deaths\")\n",
    "        if cases == 0:\n",
    "            date = date + datetime.timedelta(days=1)\n",
    "            continue\n",
    "        \n",
    "        row = []\n",
    "        row.append(date)\n",
    "        row.append(cases)\n",
    "        row.append(deaths)\n",
    "        data.append(row)\n",
    "        \n",
    "        date = date + datetime.timedelta(days=1)\n",
    "\n",
    "    return data"
   ]
  },
  {
   "cell_type": "markdown",
   "metadata": {},
   "source": [
    "# Salvar dados em arquivo"
   ]
  },
  {
   "cell_type": "code",
   "execution_count": 32,
   "metadata": {},
   "outputs": [],
   "source": [
    "data = load_data()\n",
    "\n",
    "with open('database.csv', mode='w') as fl:\n",
    "    fl = csv.writer(fl, delimiter=',', quotechar='\"', quoting=csv.QUOTE_MINIMAL)\n",
    "\n",
    "    fl.writerow(['Date', 'Cases', 'Deaths'])\n",
    "\n",
    "    for evidences in data:\n",
    "        fl.writerow(evidences)"
   ]
  },
  {
   "cell_type": "markdown",
   "metadata": {},
   "source": [
    "# Visualizar dados"
   ]
  },
  {
   "cell_type": "code",
   "execution_count": 50,
   "metadata": {},
   "outputs": [
    {
     "data": {
      "text/html": [
       "<div>\n",
       "<style scoped>\n",
       "    .dataframe tbody tr th:only-of-type {\n",
       "        vertical-align: middle;\n",
       "    }\n",
       "\n",
       "    .dataframe tbody tr th {\n",
       "        vertical-align: top;\n",
       "    }\n",
       "\n",
       "    .dataframe thead th {\n",
       "        text-align: right;\n",
       "    }\n",
       "</style>\n",
       "<table border=\"1\" class=\"dataframe\">\n",
       "  <thead>\n",
       "    <tr style=\"text-align: right;\">\n",
       "      <th></th>\n",
       "      <th>Cases</th>\n",
       "      <th>Deaths</th>\n",
       "      <th>Year</th>\n",
       "      <th>Month</th>\n",
       "      <th>New Cases</th>\n",
       "      <th>New Deaths</th>\n",
       "    </tr>\n",
       "    <tr>\n",
       "      <th>Date</th>\n",
       "      <th></th>\n",
       "      <th></th>\n",
       "      <th></th>\n",
       "      <th></th>\n",
       "      <th></th>\n",
       "      <th></th>\n",
       "    </tr>\n",
       "  </thead>\n",
       "  <tbody>\n",
       "    <tr>\n",
       "      <th>2021-12-07</th>\n",
       "      <td>22157726</td>\n",
       "      <td>616018</td>\n",
       "      <td>2021</td>\n",
       "      <td>12</td>\n",
       "      <td>10250.0</td>\n",
       "      <td>274.0</td>\n",
       "    </tr>\n",
       "    <tr>\n",
       "      <th>2021-12-08</th>\n",
       "      <td>22167781</td>\n",
       "      <td>616251</td>\n",
       "      <td>2021</td>\n",
       "      <td>12</td>\n",
       "      <td>10055.0</td>\n",
       "      <td>233.0</td>\n",
       "    </tr>\n",
       "    <tr>\n",
       "      <th>2021-12-09</th>\n",
       "      <td>22177059</td>\n",
       "      <td>616457</td>\n",
       "      <td>2021</td>\n",
       "      <td>12</td>\n",
       "      <td>9278.0</td>\n",
       "      <td>206.0</td>\n",
       "    </tr>\n",
       "  </tbody>\n",
       "</table>\n",
       "</div>"
      ],
      "text/plain": [
       "               Cases  Deaths  Year  Month  New Cases  New Deaths\n",
       "Date                                                            \n",
       "2021-12-07  22157726  616018  2021     12    10250.0       274.0\n",
       "2021-12-08  22167781  616251  2021     12    10055.0       233.0\n",
       "2021-12-09  22177059  616457  2021     12     9278.0       206.0"
      ]
     },
     "execution_count": 50,
     "metadata": {},
     "output_type": "execute_result"
    }
   ],
   "source": [
    "df = pd.read_csv('database.csv', index_col=0, parse_dates=True)\n",
    "df['Year'] = df.index.year\n",
    "df['Month'] = df.index.month\n",
    "df['New Cases'] = df['Cases'].diff()\n",
    "df['New Deaths'] = df['Deaths'].diff()\n",
    "df.tail(3)"
   ]
  },
  {
   "cell_type": "code",
   "execution_count": 51,
   "metadata": {},
   "outputs": [
    {
     "data": {
      "image/png": "[encoded data removed]",
      "text/plain": [
       "<Figure size 792x648 with 4 Axes>"
      ]
     },
     "metadata": {
      "needs_background": "light"
     },
     "output_type": "display_data"
    }
   ],
   "source": [
    "cols_plot = ['Cases', 'Deaths', 'New Cases', 'New Deaths']\n",
    "axes = df[cols_plot].plot(marker='.', alpha=0.5, linestyle='None', figsize=(11, 9), subplots=True)\n",
    "for ax in axes:\n",
    "    ax.set_ylabel('Number')"
   ]
  },
  {
   "cell_type": "markdown",
   "metadata": {},
   "source": [
    "# Construir o modelo"
   ]
  },
  {
   "cell_type": "code",
   "execution_count": 72,
   "metadata": {},
   "outputs": [
    {
     "data": {
      "text/plain": [
       "LinearRegression()"
      ]
     },
     "execution_count": 72,
     "metadata": {},
     "output_type": "execute_result"
    }
   ],
   "source": [
    "# model description\n",
    "model = lm.LinearRegression()\n",
    "\n",
    "# train\n",
    "evidences = np.array(df.index).reshape(-1, 1)\n",
    "labels = np.array(df[\"Cases\"]).reshape(-1, 1)\n",
    "train_x, test_x, train_y, test_y = train_test_split(evidences, labels)\n",
    "model.fit(train_x, train_y)"
   ]
  },
  {
   "cell_type": "markdown",
   "metadata": {},
   "source": [
    "# Avaliar o modelo"
   ]
  },
  {
   "cell_type": "code",
   "execution_count": 79,
   "metadata": {},
   "outputs": [
    {
     "data": {
      "text/plain": [
       "array([['2020-06-21T00:00:00.000000000'],\n",
       "       ['2021-02-01T00:00:00.000000000'],\n",
       "       ['2020-10-03T00:00:00.000000000'],\n",
       "       ['2021-09-07T00:00:00.000000000'],\n",
       "       ['2020-05-17T00:00:00.000000000'],\n",
       "       ['2020-06-30T00:00:00.000000000'],\n",
       "       ['2021-05-19T00:00:00.000000000'],\n",
       "       ['2020-11-03T00:00:00.000000000'],\n",
       "       ['2020-03-13T00:00:00.000000000'],\n",
       "       ['2021-04-13T00:00:00.000000000'],\n",
       "       ['2020-10-28T00:00:00.000000000'],\n",
       "       ['2020-05-19T00:00:00.000000000'],\n",
       "       ['2020-10-15T00:00:00.000000000'],\n",
       "       ['2021-03-08T00:00:00.000000000'],\n",
       "       ['2020-09-30T00:00:00.000000000'],\n",
       "       ['2020-07-22T00:00:00.000000000'],\n",
       "       ['2021-01-04T00:00:00.000000000'],\n",
       "       ['2021-11-25T00:00:00.000000000'],\n",
       "       ['2020-07-24T00:00:00.000000000'],\n",
       "       ['2020-07-12T00:00:00.000000000'],\n",
       "       ['2021-11-10T00:00:00.000000000'],\n",
       "       ['2020-09-21T00:00:00.000000000'],\n",
       "       ['2020-09-24T00:00:00.000000000'],\n",
       "       ['2021-10-10T00:00:00.000000000'],\n",
       "       ['2021-06-26T00:00:00.000000000'],\n",
       "       ['2020-11-26T00:00:00.000000000'],\n",
       "       ['2021-11-14T00:00:00.000000000'],\n",
       "       ['2021-06-12T00:00:00.000000000'],\n",
       "       ['2020-08-19T00:00:00.000000000'],\n",
       "       ['2021-03-05T00:00:00.000000000'],\n",
       "       ['2021-02-18T00:00:00.000000000'],\n",
       "       ['2021-11-18T00:00:00.000000000'],\n",
       "       ['2021-10-11T00:00:00.000000000'],\n",
       "       ['2020-08-01T00:00:00.000000000'],\n",
       "       ['2021-05-28T00:00:00.000000000'],\n",
       "       ['2021-02-06T00:00:00.000000000'],\n",
       "       ['2020-10-05T00:00:00.000000000'],\n",
       "       ['2021-11-20T00:00:00.000000000'],\n",
       "       ['2021-01-16T00:00:00.000000000'],\n",
       "       ['2020-12-27T00:00:00.000000000'],\n",
       "       ['2021-01-07T00:00:00.000000000'],\n",
       "       ['2020-03-07T00:00:00.000000000'],\n",
       "       ['2021-06-22T00:00:00.000000000'],\n",
       "       ['2020-03-01T00:00:00.000000000'],\n",
       "       ['2021-04-02T00:00:00.000000000'],\n",
       "       ['2021-02-08T00:00:00.000000000'],\n",
       "       ['2021-02-28T00:00:00.000000000'],\n",
       "       ['2020-06-26T00:00:00.000000000'],\n",
       "       ['2020-07-30T00:00:00.000000000'],\n",
       "       ['2021-08-21T00:00:00.000000000'],\n",
       "       ['2020-04-25T00:00:00.000000000'],\n",
       "       ['2021-08-24T00:00:00.000000000'],\n",
       "       ['2020-10-12T00:00:00.000000000'],\n",
       "       ['2020-05-04T00:00:00.000000000'],\n",
       "       ['2020-05-30T00:00:00.000000000'],\n",
       "       ['2021-07-14T00:00:00.000000000'],\n",
       "       ['2020-12-13T00:00:00.000000000'],\n",
       "       ['2021-07-06T00:00:00.000000000'],\n",
       "       ['2021-12-04T00:00:00.000000000'],\n",
       "       ['2020-07-19T00:00:00.000000000'],\n",
       "       ['2021-04-11T00:00:00.000000000'],\n",
       "       ['2020-09-15T00:00:00.000000000'],\n",
       "       ['2020-10-30T00:00:00.000000000'],\n",
       "       ['2020-05-06T00:00:00.000000000'],\n",
       "       ['2020-03-18T00:00:00.000000000'],\n",
       "       ['2021-09-17T00:00:00.000000000'],\n",
       "       ['2021-04-24T00:00:00.000000000'],\n",
       "       ['2021-04-16T00:00:00.000000000'],\n",
       "       ['2020-04-05T00:00:00.000000000'],\n",
       "       ['2021-04-15T00:00:00.000000000'],\n",
       "       ['2020-12-17T00:00:00.000000000'],\n",
       "       ['2020-08-14T00:00:00.000000000'],\n",
       "       ['2021-09-11T00:00:00.000000000'],\n",
       "       ['2021-05-24T00:00:00.000000000'],\n",
       "       ['2020-06-12T00:00:00.000000000'],\n",
       "       ['2020-12-16T00:00:00.000000000'],\n",
       "       ['2021-07-27T00:00:00.000000000'],\n",
       "       ['2021-05-21T00:00:00.000000000'],\n",
       "       ['2021-02-24T00:00:00.000000000'],\n",
       "       ['2020-04-09T00:00:00.000000000'],\n",
       "       ['2021-08-15T00:00:00.000000000'],\n",
       "       ['2020-07-16T00:00:00.000000000'],\n",
       "       ['2021-09-08T00:00:00.000000000'],\n",
       "       ['2021-10-13T00:00:00.000000000'],\n",
       "       ['2020-09-18T00:00:00.000000000'],\n",
       "       ['2020-08-04T00:00:00.000000000'],\n",
       "       ['2021-11-12T00:00:00.000000000'],\n",
       "       ['2021-07-03T00:00:00.000000000'],\n",
       "       ['2021-02-14T00:00:00.000000000'],\n",
       "       ['2020-10-22T00:00:00.000000000'],\n",
       "       ['2021-01-13T00:00:00.000000000'],\n",
       "       ['2021-11-07T00:00:00.000000000'],\n",
       "       ['2020-11-30T00:00:00.000000000'],\n",
       "       ['2021-01-08T00:00:00.000000000'],\n",
       "       ['2020-08-05T00:00:00.000000000'],\n",
       "       ['2020-07-28T00:00:00.000000000'],\n",
       "       ['2021-07-28T00:00:00.000000000'],\n",
       "       ['2020-04-30T00:00:00.000000000'],\n",
       "       ['2021-05-23T00:00:00.000000000'],\n",
       "       ['2021-01-28T00:00:00.000000000'],\n",
       "       ['2021-05-12T00:00:00.000000000'],\n",
       "       ['2020-10-08T00:00:00.000000000'],\n",
       "       ['2021-11-19T00:00:00.000000000'],\n",
       "       ['2020-06-16T00:00:00.000000000'],\n",
       "       ['2020-08-08T00:00:00.000000000'],\n",
       "       ['2020-12-07T00:00:00.000000000'],\n",
       "       ['2021-11-30T00:00:00.000000000'],\n",
       "       ['2020-09-16T00:00:00.000000000'],\n",
       "       ['2021-06-03T00:00:00.000000000'],\n",
       "       ['2021-11-08T00:00:00.000000000'],\n",
       "       ['2020-07-04T00:00:00.000000000'],\n",
       "       ['2021-06-13T00:00:00.000000000'],\n",
       "       ['2020-07-27T00:00:00.000000000'],\n",
       "       ['2020-09-27T00:00:00.000000000'],\n",
       "       ['2020-03-17T00:00:00.000000000'],\n",
       "       ['2020-07-06T00:00:00.000000000'],\n",
       "       ['2021-12-08T00:00:00.000000000'],\n",
       "       ['2020-05-27T00:00:00.000000000'],\n",
       "       ['2021-01-24T00:00:00.000000000'],\n",
       "       ['2021-06-01T00:00:00.000000000'],\n",
       "       ['2021-07-05T00:00:00.000000000'],\n",
       "       ['2021-09-20T00:00:00.000000000'],\n",
       "       ['2020-08-13T00:00:00.000000000'],\n",
       "       ['2020-11-17T00:00:00.000000000'],\n",
       "       ['2021-11-23T00:00:00.000000000'],\n",
       "       ['2021-09-13T00:00:00.000000000'],\n",
       "       ['2021-02-11T00:00:00.000000000'],\n",
       "       ['2021-09-06T00:00:00.000000000'],\n",
       "       ['2021-08-26T00:00:00.000000000'],\n",
       "       ['2020-03-28T00:00:00.000000000'],\n",
       "       ['2020-07-07T00:00:00.000000000'],\n",
       "       ['2021-08-29T00:00:00.000000000'],\n",
       "       ['2020-04-20T00:00:00.000000000'],\n",
       "       ['2021-08-25T00:00:00.000000000'],\n",
       "       ['2020-11-24T00:00:00.000000000'],\n",
       "       ['2021-05-14T00:00:00.000000000'],\n",
       "       ['2021-08-20T00:00:00.000000000'],\n",
       "       ['2020-06-11T00:00:00.000000000'],\n",
       "       ['2021-01-15T00:00:00.000000000'],\n",
       "       ['2020-09-03T00:00:00.000000000'],\n",
       "       ['2020-06-04T00:00:00.000000000']], dtype='datetime64[ns]')"
      ]
     },
     "execution_count": 79,
     "metadata": {},
     "output_type": "execute_result"
    }
   ],
   "source": [
    "test_x"
   ]
  },
  {
   "cell_type": "code",
   "execution_count": 78,
   "metadata": {},
   "outputs": [
    {
     "ename": "TypeError",
     "evalue": "invalid type promotion",
     "output_type": "error",
     "traceback": [
      "\u001b[1;31m---------------------------------------------------------------------------\u001b[0m",
      "\u001b[1;31mTypeError\u001b[0m                                 Traceback (most recent call last)",
      "\u001b[1;32m<ipython-input-78-c6ca1f021d7c>\u001b[0m in \u001b[0;36m<module>\u001b[1;34m\u001b[0m\n\u001b[1;32m----> 1\u001b[1;33m \u001b[0mpredicts\u001b[0m \u001b[1;33m=\u001b[0m \u001b[0mmodel\u001b[0m\u001b[1;33m.\u001b[0m\u001b[0mpredict\u001b[0m\u001b[1;33m(\u001b[0m\u001b[0mtest_x\u001b[0m\u001b[1;33m)\u001b[0m\u001b[1;33m\u001b[0m\u001b[1;33m\u001b[0m\u001b[0m\n\u001b[0m\u001b[0;32m      2\u001b[0m \u001b[0mresult\u001b[0m \u001b[1;33m=\u001b[0m \u001b[0mpd\u001b[0m\u001b[1;33m.\u001b[0m\u001b[0mDataFrame\u001b[0m\u001b[1;33m(\u001b[0m\u001b[1;33m)\u001b[0m\u001b[1;33m\u001b[0m\u001b[1;33m\u001b[0m\u001b[0m\n\u001b[0;32m      3\u001b[0m \u001b[0mresult\u001b[0m\u001b[1;33m[\u001b[0m\u001b[1;34m'Predicts'\u001b[0m\u001b[1;33m]\u001b[0m \u001b[1;33m=\u001b[0m \u001b[0mpredicts\u001b[0m\u001b[1;33m\u001b[0m\u001b[1;33m\u001b[0m\u001b[0m\n\u001b[0;32m      4\u001b[0m \u001b[0mresult\u001b[0m\u001b[1;33m[\u001b[0m\u001b[1;34m'Real'\u001b[0m\u001b[1;33m]\u001b[0m \u001b[1;33m=\u001b[0m \u001b[0mtest_y\u001b[0m\u001b[1;33m\u001b[0m\u001b[1;33m\u001b[0m\u001b[0m\n\u001b[0;32m      5\u001b[0m \u001b[0mresult\u001b[0m\u001b[1;33m\u001b[0m\u001b[1;33m\u001b[0m\u001b[0m\n",
      "\u001b[1;32m~\\anaconda3\\lib\\site-packages\\sklearn\\linear_model\\_base.py\u001b[0m in \u001b[0;36mpredict\u001b[1;34m(self, X)\u001b[0m\n\u001b[0;32m    234\u001b[0m             \u001b[0mReturns\u001b[0m \u001b[0mpredicted\u001b[0m \u001b[0mvalues\u001b[0m\u001b[1;33m.\u001b[0m\u001b[1;33m\u001b[0m\u001b[1;33m\u001b[0m\u001b[0m\n\u001b[0;32m    235\u001b[0m         \"\"\"\n\u001b[1;32m--> 236\u001b[1;33m         \u001b[1;32mreturn\u001b[0m \u001b[0mself\u001b[0m\u001b[1;33m.\u001b[0m\u001b[0m_decision_function\u001b[0m\u001b[1;33m(\u001b[0m\u001b[0mX\u001b[0m\u001b[1;33m)\u001b[0m\u001b[1;33m\u001b[0m\u001b[1;33m\u001b[0m\u001b[0m\n\u001b[0m\u001b[0;32m    237\u001b[0m \u001b[1;33m\u001b[0m\u001b[0m\n\u001b[0;32m    238\u001b[0m     \u001b[0m_preprocess_data\u001b[0m \u001b[1;33m=\u001b[0m \u001b[0mstaticmethod\u001b[0m\u001b[1;33m(\u001b[0m\u001b[0m_preprocess_data\u001b[0m\u001b[1;33m)\u001b[0m\u001b[1;33m\u001b[0m\u001b[1;33m\u001b[0m\u001b[0m\n",
      "\u001b[1;32m~\\anaconda3\\lib\\site-packages\\sklearn\\linear_model\\_base.py\u001b[0m in \u001b[0;36m_decision_function\u001b[1;34m(self, X)\u001b[0m\n\u001b[0;32m    217\u001b[0m \u001b[1;33m\u001b[0m\u001b[0m\n\u001b[0;32m    218\u001b[0m         \u001b[0mX\u001b[0m \u001b[1;33m=\u001b[0m \u001b[0mcheck_array\u001b[0m\u001b[1;33m(\u001b[0m\u001b[0mX\u001b[0m\u001b[1;33m,\u001b[0m \u001b[0maccept_sparse\u001b[0m\u001b[1;33m=\u001b[0m\u001b[1;33m[\u001b[0m\u001b[1;34m'csr'\u001b[0m\u001b[1;33m,\u001b[0m \u001b[1;34m'csc'\u001b[0m\u001b[1;33m,\u001b[0m \u001b[1;34m'coo'\u001b[0m\u001b[1;33m]\u001b[0m\u001b[1;33m)\u001b[0m\u001b[1;33m\u001b[0m\u001b[1;33m\u001b[0m\u001b[0m\n\u001b[1;32m--> 219\u001b[1;33m         return safe_sparse_dot(X, self.coef_.T,\n\u001b[0m\u001b[0;32m    220\u001b[0m                                dense_output=True) + self.intercept_\n\u001b[0;32m    221\u001b[0m \u001b[1;33m\u001b[0m\u001b[0m\n",
      "\u001b[1;32m~\\anaconda3\\lib\\site-packages\\sklearn\\utils\\validation.py\u001b[0m in \u001b[0;36minner_f\u001b[1;34m(*args, **kwargs)\u001b[0m\n\u001b[0;32m     70\u001b[0m                           FutureWarning)\n\u001b[0;32m     71\u001b[0m         \u001b[0mkwargs\u001b[0m\u001b[1;33m.\u001b[0m\u001b[0mupdate\u001b[0m\u001b[1;33m(\u001b[0m\u001b[1;33m{\u001b[0m\u001b[0mk\u001b[0m\u001b[1;33m:\u001b[0m \u001b[0marg\u001b[0m \u001b[1;32mfor\u001b[0m \u001b[0mk\u001b[0m\u001b[1;33m,\u001b[0m \u001b[0marg\u001b[0m \u001b[1;32min\u001b[0m \u001b[0mzip\u001b[0m\u001b[1;33m(\u001b[0m\u001b[0msig\u001b[0m\u001b[1;33m.\u001b[0m\u001b[0mparameters\u001b[0m\u001b[1;33m,\u001b[0m \u001b[0margs\u001b[0m\u001b[1;33m)\u001b[0m\u001b[1;33m}\u001b[0m\u001b[1;33m)\u001b[0m\u001b[1;33m\u001b[0m\u001b[1;33m\u001b[0m\u001b[0m\n\u001b[1;32m---> 72\u001b[1;33m         \u001b[1;32mreturn\u001b[0m \u001b[0mf\u001b[0m\u001b[1;33m(\u001b[0m\u001b[1;33m**\u001b[0m\u001b[0mkwargs\u001b[0m\u001b[1;33m)\u001b[0m\u001b[1;33m\u001b[0m\u001b[1;33m\u001b[0m\u001b[0m\n\u001b[0m\u001b[0;32m     73\u001b[0m     \u001b[1;32mreturn\u001b[0m \u001b[0minner_f\u001b[0m\u001b[1;33m\u001b[0m\u001b[1;33m\u001b[0m\u001b[0m\n\u001b[0;32m     74\u001b[0m \u001b[1;33m\u001b[0m\u001b[0m\n",
      "\u001b[1;32m~\\anaconda3\\lib\\site-packages\\sklearn\\utils\\extmath.py\u001b[0m in \u001b[0;36msafe_sparse_dot\u001b[1;34m(a, b, dense_output)\u001b[0m\n\u001b[0;32m    151\u001b[0m             \u001b[0mret\u001b[0m \u001b[1;33m=\u001b[0m \u001b[0mnp\u001b[0m\u001b[1;33m.\u001b[0m\u001b[0mdot\u001b[0m\u001b[1;33m(\u001b[0m\u001b[0ma\u001b[0m\u001b[1;33m,\u001b[0m \u001b[0mb\u001b[0m\u001b[1;33m)\u001b[0m\u001b[1;33m\u001b[0m\u001b[1;33m\u001b[0m\u001b[0m\n\u001b[0;32m    152\u001b[0m     \u001b[1;32melse\u001b[0m\u001b[1;33m:\u001b[0m\u001b[1;33m\u001b[0m\u001b[1;33m\u001b[0m\u001b[0m\n\u001b[1;32m--> 153\u001b[1;33m         \u001b[0mret\u001b[0m \u001b[1;33m=\u001b[0m \u001b[0ma\u001b[0m \u001b[1;33m@\u001b[0m \u001b[0mb\u001b[0m\u001b[1;33m\u001b[0m\u001b[1;33m\u001b[0m\u001b[0m\n\u001b[0m\u001b[0;32m    154\u001b[0m \u001b[1;33m\u001b[0m\u001b[0m\n\u001b[0;32m    155\u001b[0m     if (sparse.issparse(a) and sparse.issparse(b)\n",
      "\u001b[1;31mTypeError\u001b[0m: invalid type promotion"
     ]
    }
   ],
   "source": [
    "predicts = model.predict(test_x)\n",
    "result = pd.DataFrame()\n",
    "result['Predicts'] = predicts\n",
    "result['Real'] = test_y\n",
    "result"
   ]
  }
 ],
 "metadata": {
  "kernelspec": {
   "display_name": "Python 3",
   "language": "python",
   "name": "python3"
  },
  "language_info": {
   "codemirror_mode": {
    "name": "ipython",
    "version": 3
   },
   "file_extension": ".py",
   "mimetype": "text/x-python",
   "name": "python",
   "nbconvert_exporter": "python",
   "pygments_lexer": "ipython3",
   "version": "3.8.5"
  }
 },
 "nbformat": 4,
 "nbformat_minor": 4
}
